{
 "cells": [
  {
   "cell_type": "code",
   "execution_count": 1,
   "id": "db114f3c",
   "metadata": {},
   "outputs": [],
   "source": [
    "import cv2\n",
    "import csv\n",
    "import numpy as np\n",
    "import os"
   ]
  },
  {
   "cell_type": "code",
   "execution_count": 2,
   "id": "9ae908bd",
   "metadata": {},
   "outputs": [],
   "source": [
    "cap = cv2.VideoCapture(\"\")"
   ]
  },
  {
   "cell_type": "code",
   "execution_count": 3,
   "id": "c1a96687",
   "metadata": {},
   "outputs": [],
   "source": [
    "feature_params = dict(maxCorners=100, qualityLevel=0.3, minDistance=7, blockSize=7)\n",
    "lk_params= dict(winSize=(15, 15), maxLevel=2, criteria=(cv2.TERM_CRITERIA_EPS | cv2.TERM_CRITERIA_COUNT, 30, 0.03))"
   ]
  },
  {
   "cell_type": "code",
   "execution_count": 4,
   "id": "f5796a3b",
   "metadata": {},
   "outputs": [],
   "source": [
    "#Histogram ilk kare\n",
    "ret, frame = cap.read()\n",
    "prev_hist = cv2.calcHist([frame],[0,1,2],None,[256,256,256],[0,256,0,256,0,256]) \n",
    "prev_hist = cv2.normalize(prev_hist,prev_hist).flatten()\n",
    "\n",
    "#Optik akış ilk kare\n",
    "old_gray = cv2.cvtColor(frame, cv2.COLOR_BGR2GRAY)\n",
    "p0 = cv2.goodFeaturesToTrack(old_gray,mask=None,**feature_params) #Shi Thomas algorithm."
   ]
  },
  {
   "cell_type": "code",
   "execution_count": 5,
   "id": "cd0c62cd",
   "metadata": {},
   "outputs": [],
   "source": [
    "output_folder = \"detected_Transition\"\n",
    "os.makedirs(output_folder,exist_ok=True)"
   ]
  },
  {
   "cell_type": "code",
   "execution_count": 6,
   "id": "19e3b807",
   "metadata": {},
   "outputs": [],
   "source": [
    "threshold = 0.80 #Korelasyon için eşik değer.\n",
    "labels = [] #Geçiş var ve yok bilgisi yazılacak.\n",
    "frame_count = 0\n",
    "motion_threshold = 10 #Hareket eşik değeri\n",
    "\n",
    "while True:\n",
    "    ret, frame = cap.read()\n",
    "    if not ret:\n",
    "        break\n",
    "    current_hist = cv2.calcHist([frame],[0,1,2],None,[256,256,256],[0,256,0,256,0,256])\n",
    "    current_hist = cv2.normalize(current_hist,current_hist).flatten()\n",
    "    \n",
    "    #Optik akış analizi:\n",
    "    frame_gray = cv2.cvtColor(frame, cv2.COLOR_BGR2GRAY)\n",
    "    p1, st, err = cv2.calcOpticalFlowPyrLK(old_gray, frame_gray, p0, None, **lk_params)\n",
    "    \n",
    "    #Hareket miktarı:\n",
    "    if p1 is not None:\n",
    "        motion = np.abs(p1 - p0).reshape(-1,2).max(axis=1)\n",
    "        significant_motion = (motion - motion_threshold).sum()\n",
    "    else:\n",
    "        significant_motion = 9\n",
    "    \n",
    "    #İki karenin korelasyonu:\n",
    "    hist_corr = cv2.compareHist(prev_hist,current_hist,cv2.HISTCMP_CORREL)\n",
    "    \n",
    "    #Eğer histogram threshold'dan düşük ise geçiş olduğunu belirtir.\n",
    "    label=1 if (hist_corr < threshold and significant_motion > motion_threshold) else 0\n",
    "    hist_corr_rounded = round(hist_corr,2) #koralasyonda 0'dan sonra sadece ilk 2 sayıyı yaz.\n",
    "    significant_motion_round = round(significant_motion,2)\n",
    "\n",
    "    \n",
    "    if label == 1:\n",
    "        cv2.putText(frame,'GECIS ALGILANDI',(50, 50),cv2.FONT_HERSHEY_SIMPLEX,1,(0, 0, 255), 2, cv2.LINE_AA)\n",
    "        cv2.imshow('Video', frame)\n",
    "        cv2.waitKey(3000)  # 3 saniye (3000 milisaniye) bekler\n",
    "    else:\n",
    "        cv2.imshow('Video', frame)\n",
    "        if cv2.waitKey(1) & 0xFF == ord('q'):  # 'q' tuşuna basıldığında çıkış yap\n",
    "            break\n",
    "    \n",
    "    #Değerleri listeye ekle:\n",
    "    labels.append((frame_count,significant_motion_round,hist_corr_rounded,label))\n",
    "    \n",
    "    #Histogram güncelleme:\n",
    "    prev_hist = current_hist\n",
    "    frame_count += 1\n",
    "    \n",
    "    #Optik akış noktaları güncelle:\n",
    "    old_gray = frame_gray.copy()\n",
    "    if p1 is not None:\n",
    "        p0 = p1[st==1].reshape(-1,1,2)\n",
    "    #p1 None ise yeni nokta seçmek için:\n",
    "    else: \n",
    "        p0 = cv2.goodFeaturesToTrack(frame_gray, mask=None, **feature_params)\n",
    "\n",
    "cv2.destroyWindow(\"Video\")\n",
    "\n",
    "with open('frame_labels.csv', 'w', newline='') as file:\n",
    "    writer = csv.writer(file)\n",
    "    writer.writerow([\"Frame\", \"significant_motion\",\"corr\", \"Transition\"])\n",
    "    writer.writerows(labels)\n",
    "    \n",
    "cap.release()\n",
    "cv2.destroyAllWindows()"
   ]
  },
  {
   "cell_type": "code",
   "execution_count": null,
   "id": "0e2d94b1",
   "metadata": {},
   "outputs": [],
   "source": []
  }
 ],
 "metadata": {
  "kernelspec": {
   "display_name": "Python 3 (ipykernel)",
   "language": "python",
   "name": "python3"
  },
  "language_info": {
   "codemirror_mode": {
    "name": "ipython",
    "version": 3
   },
   "file_extension": ".py",
   "mimetype": "text/x-python",
   "name": "python",
   "nbconvert_exporter": "python",
   "pygments_lexer": "ipython3",
   "version": "3.9.13"
  }
 },
 "nbformat": 4,
 "nbformat_minor": 5
}
